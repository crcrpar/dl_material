{
  "metadata": {
    "language_info": {
      "mimetype": "text/x-python",
      "file_extension": ".py",
      "name": "python",
      "pygments_lexer": "ipython3",
      "nbconvert_exporter": "python",
      "version": "3.5.2",
      "codemirror_mode": {
        "name": "ipython",
        "version": 3
      }
    },
    "kernelspec": {
      "display_name": "Python 3",
      "language": "python",
      "name": "python3"
    }
  },
  "nbformat": 4,
  "cells": [
    {
      "outputs": [],
      "metadata": {
        "collapsed": false
      },
      "execution_count": null,
      "cell_type": "code",
      "source": [
        "%matplotlib inline"
      ]
    },
    {
      "metadata": {},
      "cell_type": "markdown",
      "source": [
        "\nWhat is PyTorch?\n================\n\nIt\u2019s a Python based scientific computing package targeted at two sets of\naudiences:\n\n-  A replacement for numpy to use the power of GPUs\n-  a deep learning research platform that provides maximum flexibility\n   and speed\n\nGetting Started\n---------------\n\nTensors\n^^^^^^^\n\nTensors are similar to numpy\u2019s ndarrays, with the addition being that\nTensors can also be used on a GPU to accelerate computing.\n\n"
      ]
    },
    {
      "outputs": [],
      "metadata": {
        "collapsed": false
      },
      "execution_count": null,
      "cell_type": "code",
      "source": [
        "from __future__ import print_function\nimport torch"
      ]
    },
    {
      "metadata": {},
      "cell_type": "markdown",
      "source": [
        "Construct a 5x3 matrix, uninitialized:\n\n"
      ]
    },
    {
      "outputs": [],
      "metadata": {
        "collapsed": false
      },
      "execution_count": null,
      "cell_type": "code",
      "source": [
        "x = torch.Tensor(5, 3)\nprint(x)"
      ]
    },
    {
      "metadata": {},
      "cell_type": "markdown",
      "source": [
        "Construct a randomly initialized matrix\n\n"
      ]
    },
    {
      "outputs": [],
      "metadata": {
        "collapsed": false
      },
      "execution_count": null,
      "cell_type": "code",
      "source": [
        "x = torch.rand(5, 3)\nprint(x)"
      ]
    },
    {
      "metadata": {},
      "cell_type": "markdown",
      "source": [
        "Get its size\n\n"
      ]
    },
    {
      "outputs": [],
      "metadata": {
        "collapsed": false
      },
      "execution_count": null,
      "cell_type": "code",
      "source": [
        "print(x.size())"
      ]
    },
    {
      "metadata": {},
      "cell_type": "markdown",
      "source": [
        "<div class=\"alert alert-info\"><h4>Note</h4><p>``torch.Size`` is in fact a tuple, so it supports the same operations</p></div>\n\nOperations\n^^^^^^^^^^\nThere are multiple syntaxes for operations. Let's see addition as an example\n\nAddition: syntax 1\n\n"
      ]
    },
    {
      "outputs": [],
      "metadata": {
        "collapsed": false
      },
      "execution_count": null,
      "cell_type": "code",
      "source": [
        "y = torch.rand(5, 3)\nprint(x + y)"
      ]
    },
    {
      "metadata": {},
      "cell_type": "markdown",
      "source": [
        "Addition: syntax 2\n\n"
      ]
    },
    {
      "outputs": [],
      "metadata": {
        "collapsed": false
      },
      "execution_count": null,
      "cell_type": "code",
      "source": [
        "print(torch.add(x, y))"
      ]
    },
    {
      "metadata": {},
      "cell_type": "markdown",
      "source": [
        "Addition: giving an output tensor\n\n"
      ]
    },
    {
      "outputs": [],
      "metadata": {
        "collapsed": false
      },
      "execution_count": null,
      "cell_type": "code",
      "source": [
        "result = torch.Tensor(5, 3)\ntorch.add(x, y, out=result)\nprint(result)"
      ]
    },
    {
      "metadata": {},
      "cell_type": "markdown",
      "source": [
        "Addition: in-place\n\n"
      ]
    },
    {
      "outputs": [],
      "metadata": {
        "collapsed": false
      },
      "execution_count": null,
      "cell_type": "code",
      "source": [
        "# adds x to y\ny.add_(x)\nprint(y)"
      ]
    },
    {
      "metadata": {},
      "cell_type": "markdown",
      "source": [
        "<div class=\"alert alert-info\"><h4>Note</h4><p>Any operation that mutates a tensor in-place is post-fixed with an ``_``\n    For example: ``x.copy_(y)``, ``x.t_()``, will change ``x``.</p></div>\n\nYou can use standard numpy-like indexing with all bells and whistles!\n\n"
      ]
    },
    {
      "outputs": [],
      "metadata": {
        "collapsed": false
      },
      "execution_count": null,
      "cell_type": "code",
      "source": [
        "print(x[:, 1])"
      ]
    },
    {
      "metadata": {},
      "cell_type": "markdown",
      "source": [
        "**Read later:**\n\n\n  100+ Tensor operations, including transposing, indexing, slicing,\n  mathematical operations, linear algebra, random numbers, etc are described\n  `here <http://pytorch.org/docs/torch>`_\n\nNumpy Bridge\n------------\n\nConverting a torch Tensor to a numpy array and vice versa is a breeze.\n\nThe torch Tensor and numpy array will share their underlying memory\nlocations, and changing one will change the other.\n\nConverting torch Tensor to numpy Array\n^^^^^^^^^^^^^^^^^^^^^^^^^^^^^^^^^^^^^^\n\n"
      ]
    },
    {
      "outputs": [],
      "metadata": {
        "collapsed": false
      },
      "execution_count": null,
      "cell_type": "code",
      "source": [
        "a = torch.ones(5)\nprint(a)"
      ]
    },
    {
      "outputs": [],
      "metadata": {
        "collapsed": false
      },
      "execution_count": null,
      "cell_type": "code",
      "source": [
        "b = a.numpy()\nprint(b)"
      ]
    },
    {
      "metadata": {},
      "cell_type": "markdown",
      "source": [
        "See how the numpy array changed in value.\n\n"
      ]
    },
    {
      "outputs": [],
      "metadata": {
        "collapsed": false
      },
      "execution_count": null,
      "cell_type": "code",
      "source": [
        "a.add_(1)\nprint(a)\nprint(b)"
      ]
    },
    {
      "metadata": {},
      "cell_type": "markdown",
      "source": [
        "Converting numpy Array to torch Tensor\n^^^^^^^^^^^^^^^^^^^^^^^^^^^^^^^^^^^^^^\nSee how changing the np array changed the torch Tensor automatically\n\n"
      ]
    },
    {
      "outputs": [],
      "metadata": {
        "collapsed": false
      },
      "execution_count": null,
      "cell_type": "code",
      "source": [
        "import numpy as np\na = np.ones(5)\nb = torch.from_numpy(a)\nnp.add(a, 1, out=a)\nprint(a)\nprint(b)"
      ]
    },
    {
      "metadata": {},
      "cell_type": "markdown",
      "source": [
        "All the Tensors on the CPU except a CharTensor support converting to\nNumPy and back.\n\nCUDA Tensors\n------------\n\nTensors can be moved onto GPU using the ``.cuda`` function.\n\n"
      ]
    },
    {
      "outputs": [],
      "metadata": {
        "collapsed": false
      },
      "execution_count": null,
      "cell_type": "code",
      "source": [
        "# let us run this cell only if CUDA is available\nif torch.cuda.is_available():\n    x = x.cuda()\n    y = y.cuda()\n    x + y"
      ]
    }
  ],
  "nbformat_minor": 0
}